{
 "cells": [
  {
   "cell_type": "markdown",
   "id": "2efe0e97",
   "metadata": {},
   "source": [
    "# SEQUENCE analysis"
   ]
  },
  {
   "cell_type": "markdown",
   "id": "139e1dfb",
   "metadata": {},
   "source": [
    "# Contents\n",
    "\n",
    "1. Load the libraries and set the path\n",
    "\n",
    "2. [Length](#Length)\n",
    "\n",
    "3. [Pairwise alignment](#Calculate-the-pairwise-alignment)\n",
    "\n",
    "4. [Plots from the pairwise alignment](#Plots-from-the-sequence-alignment)"
   ]
  },
  {
   "cell_type": "markdown",
   "id": "d13b84e4",
   "metadata": {},
   "source": [
    "1. Cargamos las secuencias de la BD y las referencias\n",
    "2. Generamos un pairwise alignment con c/ estructura de referencia\n",
    "3. Analisis de calidad del pairwise alignment: analizamos los % identidad, similitud, score y gaps\n",
    "    Esto nos dira como de parecidas son las secs de la BD con las de referencia\n",
    "4. MSA para comprobar si estan los residuos cataliticos en las secuencias de la BD\n",
    "5. Opcional: shannon energy para analizar los residuos conservados"
   ]
  },
  {
   "cell_type": "markdown",
   "id": "2ecf1c89",
   "metadata": {},
   "source": [
    "## Load the libraries"
   ]
  },
  {
   "cell_type": "code",
   "execution_count": null,
   "id": "f188a845",
   "metadata": {},
   "outputs": [],
   "source": [
    "# load the libraries and modules\n",
    "import bioprospecting\n",
    "import Bio\n",
    "from Bio.Emboss import Applications\n",
    "\n",
    "import statistics as st\n",
    "import numpy as np\n",
    "import seaborn as sns\n",
    "print(f\"Seaborn version: {sns.__version__}\")\n",
    "import matplotlib.pyplot as plt\n",
    "\n",
    "\n",
    "from Bio.Emboss.Applications import NeedleCommandline # not sure if necessary to load this one\n",
    "from Bio import AlignIO # not sure if necessary to load this one"
   ]
  },
  {
   "cell_type": "markdown",
   "id": "db6f6574",
   "metadata": {},
   "source": [
    "## Set the path"
   ]
  },
  {
   "cell_type": "code",
   "execution_count": null,
   "id": "30d9dc86",
   "metadata": {},
   "outputs": [],
   "source": [
    "import os\n",
    "# os.chdir(\"/home/tania/Documents/2 Practiques Extracurr/Stage3/artificial seq 1000/data4\")\n",
    "os.chdir(\"/home/tania/Documents/2 Practiques Extracurr/Stage3/Dockings_STA/Docking_artifseq_3wwj\")"
   ]
  },
  {
   "cell_type": "markdown",
   "id": "704f2af7",
   "metadata": {},
   "source": [
    "# Length\n",
    "[top](#Contents)"
   ]
  },
  {
   "cell_type": "markdown",
   "id": "78169243",
   "metadata": {},
   "source": [
    "Plot to visualize the length of your target sequences\n"
   ]
  },
  {
   "cell_type": "code",
   "execution_count": null,
   "id": "062f3b5a",
   "metadata": {},
   "outputs": [],
   "source": [
    "b = []\n",
    "\n",
    "#largo = bioprospecting.alignment.readFastaFile(\"/home/tania/Documents/2 Practicas NOSTRUM/Practiques Extracurr/Stage 1/oTAED DB/otaed_fold4.fasta\")\n",
    "\n",
    "# ampliacion BD\n",
    "\n",
    "\n",
    "#largo = bioprospecting.alignment.readFastaFile(\"/home/tania/Documents/2 Practiques Extracurr/Stage 1/oTAED DB/clean_otaed_fold4_250-500residues.fasta\")\n",
    "\n",
    "largo = bioprospecting.alignment.readFastaFile(\"models_msa_a_sequences.fasta\")\n",
    "Seq_len =[]\n",
    "for seq in largo:\n",
    "    Seq_len.append(len(largo[seq]))\n",
    "sns.boxplot(Seq_len, color=\".8\", palette=\"PuBu\",linewidth=.75)\n",
    "plt.xlabel(\"Sequence length\")\n",
    "# plt.savefig(\"Seq_length_asequences.png\", dpi=300)\n",
    "plt.show()\n"
   ]
  },
  {
   "cell_type": "code",
   "execution_count": null,
   "id": "b9378250",
   "metadata": {},
   "outputs": [],
   "source": [
    "# Seq_len"
   ]
  },
  {
   "cell_type": "code",
   "execution_count": null,
   "id": "00c50d75",
   "metadata": {},
   "outputs": [],
   "source": [
    "print(f\"sequences have lengths between {min(Seq_len)} and {max(Seq_len)}\")\n",
    "print(f\"mean length: {st.mean(Seq_len)}\")\n",
    "print(f\"median length: {st.median(Seq_len)}\")"
   ]
  },
  {
   "cell_type": "code",
   "execution_count": null,
   "id": "97e0a52e",
   "metadata": {},
   "outputs": [],
   "source": [
    "#load all sequences obtained from the DB after filtering with CD-HIT\n",
    "#otaed_seq = bioprospecting.alignment.readFastaFile(\"/home/tania/Documents/2 Practiques Extracurr/Stage 1/oTAED DB/clear_otaed_fold4_SI90.fasta\")\n",
    "\n",
    "#load all sequences obtained from the DB after filtering with MMSEQS at 90% SI\n",
    "#otaed_seq = bioprospecting.alignment.readFastaFile(\"/home/tania/Desktop/otaed_fold4_250-500resi_SID90_rep_seq.fasta\")\n",
    "\n",
    "#sequences from oTAED\n",
    "#otaed_seq = bioprospecting.alignment.readFastaFile(\"/home/tania/Documents/2 Practiques Extracurr/Stage 1/oTAED DB/MMSEQS/Fold IV/clean_otaed_fold4_250-350resi_SI90_rep_seq.fasta\")\n",
    "\n",
    "# sequences from HMM\n",
    "# otaed_seq = bioprospecting.alignment.readFastaFile(\"/home/tania/Documents/2 Practiques Extracurr/Stage 1/Ampliacion BD/Fold IV/allseq_foldiv_trimmed_SID90_rep_seq.fasta\")\n",
    "# otaed_seq = bioprospecting.alignment.readFastaFile(\"/home/tania/Documents/2 Practiques Extracurr/Stage3/Alphafold_3fcr_artificial/final_models/with_PLP/cambios/output.fasta\")\n",
    "otaed_seq = largo\n",
    "\n",
    "\n",
    "# reference structures pairwise alignment\n",
    "# refs = bioprospecting.alignment.readFastaFile(\"/home/tania/Desktop/3wwj.fasta\")\n",
    "\n",
    "#load reference sequence 1, from HFAM 10 in oTAED\n",
    "# ref1 = bioprospecting.alignment.readFastaFile(\"/home/tania/Downloads/4CE5.fasta\")\n",
    "\n",
    "# # load reference sequence 2, from HFAM 11\n",
    "# ref2 = bioprospecting.alignment.readFastaFile(\"/home/tania/Downloads/4DAA.fasta\")\n",
    "\n",
    "# # load reference sequence 3, not in HFam\n",
    "# ref3 = bioprospecting.alignment.readFastaFile(\"/home/tania/Downloads/5K3W.fasta\")\n",
    "\n",
    "# # load reference sequence 4, from HFAM 163\n",
    "# ref4 = bioprospecting.alignment.readFastaFile(\"/home/tania/Downloads/8AYJ.fasta\")\n",
    "\n",
    "# # load reference sequence 5, from HFAM 11 \n",
    "# ref5 = bioprospecting.alignment.readFastaFile(\"/home/tania/Downloads/7P7X.fasta\")\n",
    "\n",
    "# # load reference sequence 6, from HFAM 16\n",
    "# ref6 = bioprospecting.alignment.readFastaFile(\"/home/tania/Downloads/4JXU.fasta\")\n",
    "\n",
    "# # load reference sequence 7, from HFAM 10, not deposited in OTAED DB\n",
    "# ref7 = bioprospecting.alignment.readFastaFile(\"/home/tania/Downloads/6SNL.fasta\")\n",
    "\n",
    "\n",
    "# \n",
    "ref7 = bioprospecting.alignment.readFastaFile(\"/home/tania/Documents/2 Practiques Extracurr/Stage3/prompts/ATA117_mut_3WWJ.fasta\")\n",
    "ref8 = bioprospecting.alignment.readFastaFile(\"/home/tania/Documents/2 Practiques Extracurr/Stage3/prompts/3wwh.fasta\")\n",
    "\n",
    "# calb = bioprospecting.alignment.readFastaFile(\"4k6g.fasta\")\n"
   ]
  },
  {
   "cell_type": "code",
   "execution_count": null,
   "id": "1de1ce88",
   "metadata": {},
   "outputs": [],
   "source": [
    "# total sequences\n",
    "len(otaed_seq)\n",
    "#len(refs)"
   ]
  },
  {
   "cell_type": "markdown",
   "id": "a025c2dc",
   "metadata": {},
   "source": [
    "Execute the following cells only once"
   ]
  },
  {
   "cell_type": "code",
   "execution_count": null,
   "id": "dca0f776",
   "metadata": {},
   "outputs": [],
   "source": [
    "# generate a MSA with all the reference structures\n",
    "# $ cat 3CSW.fasta 4JXU.fasta 4WHX.fasta 3WWH.fasta 4CHI.fasta 4CE5.fasta > ref_seq_foldiv.fasta\n",
    "\n",
    "# ref_seq_foldiv = bioprospecting.alignment.readFastaFile(\"ref_seq_foldiv.fasta\")\n",
    "# ref_str_aln = bioprospecting.alignment.mafft.multipleSequenceAlignment(ref_seq_foldiv)"
   ]
  },
  {
   "cell_type": "code",
   "execution_count": null,
   "id": "971c5e2d",
   "metadata": {},
   "outputs": [],
   "source": [
    "# save the alignment, ONLY EXECUTED ONCE\n",
    "#bioprospecting.alignment.writeMsaToFastaFile(ref_str_aln, '/home/tania/Downloads/ref_seq_foldiv_aln.fasta')"
   ]
  },
  {
   "cell_type": "markdown",
   "id": "d8a2ff26",
   "metadata": {},
   "source": [
    "## Calculate the pairwise alignment\n",
    "[top](#Contents)"
   ]
  },
  {
   "cell_type": "markdown",
   "id": "c09e50ab",
   "metadata": {},
   "source": [
    "For each reference structure"
   ]
  },
  {
   "cell_type": "code",
   "execution_count": null,
   "id": "f81b74b2",
   "metadata": {
    "scrolled": true
   },
   "outputs": [],
   "source": [
    "#generate the pairwise alignment against the reference structure\n",
    "\n",
    "# in bsequence=\".fasta\", modifify the file for each reference 4CE5 and 3CSW\n",
    "\n",
    "Seq_ID, Seq_Sim, Seq_Gap, Seq_score = [], [], [], []\n",
    "\n",
    "Best_GEN_seq = {}\n",
    "for seq in otaed_seq:\n",
    "    Tmp_gen_seq = {} #crea un diccionario vacio\n",
    "    Tmp_gen_seq[seq] = otaed_seq[seq] #guarda las secuencias del fold iv en el diccionario vacio\n",
    "    bioprospecting.alignment.writeFastaFile(Tmp_gen_seq,\"Generated_seq.fasta\") #escribe el fasta temporal\n",
    "    seq_ID, seq_Sim, seq_Gap, seq_score = [], [], [], [] #define listas vacias donde pondras los valores de\n",
    "                                                         # % identidad, % gaps, % similitud, score\n",
    "    NMC = Applications.NeedleCommandline(asequence=\"Generated_seq.fasta\", bsequence=\"/home/tania/Documents/2 Practiques Extracurr/Stage3/prompts/ATA117_mut_3WWJ.fasta\", gapopen=10, \n",
    "                                         gapextend=0.5, outfile=\"Temporal_alignment.needle\")\n",
    "#     print(NMC)\n",
    "    NMC()\n",
    "    PWA = open(\"Temporal_alignment.needle\", \"rt\")\n",
    "    for line in PWA:\n",
    "        if \"Identity\" in line:\n",
    "            seq_ID.append(float(line.split(\"(\")[1].replace(\"%)\",\"\").strip()))\n",
    "        if \"Similarity\" in line:\n",
    "            seq_Sim.append(float(line.split(\"(\")[1].replace(\"%)\",\"\").strip()))\n",
    "        if \"Gaps\" in line:\n",
    "            seq_Gap.append(float(line.split(\"(\")[1].replace(\"%)\",\"\").strip()))\n",
    "        if \"Score\" in line:\n",
    "            seq_score.append(float(line.split(\":\")[1].strip()))\n",
    "    Index_of_the_closest_homolog = np.argmax(seq_ID)\n",
    "    Seq_ID.append(seq_ID[Index_of_the_closest_homolog])\n",
    "    Seq_Sim.append(seq_Sim[Index_of_the_closest_homolog])\n",
    "    Seq_Gap.append(seq_Gap[Index_of_the_closest_homolog])\n",
    "    Seq_score.append(seq_score[Index_of_the_closest_homolog])\n",
    "    if 60.0<=seq_ID[Index_of_the_closest_homolog]<=100.0:\n",
    "        Best_GEN_seq[seq] = otaed_seq[seq]"
   ]
  },
  {
   "cell_type": "markdown",
   "id": "a2cb48f3",
   "metadata": {},
   "source": [
    "NOTA: si sale un error del tipo \"error exit 1\", quizas sea porque el archivo `bsequence` no esta en la ruta especificada"
   ]
  },
  {
   "cell_type": "markdown",
   "id": "82a55d38",
   "metadata": {},
   "source": [
    "if the cell above does not work (some error regarding needle) install emboss:\n",
    "\n",
    "https://anaconda.org/bioconda/emboss\n",
    "\n",
    "$ https://anaconda.org/bioconda/emboss\n",
    "\n",
    "and then restart the kernel"
   ]
  },
  {
   "cell_type": "code",
   "execution_count": null,
   "id": "e3924d07",
   "metadata": {},
   "outputs": [],
   "source": [
    "#generate the pairwise alignment against the reference structure\n",
    "\n",
    "# in bsequence=\".fasta\", modifify the file for each reference 4CE5 and 3CSW\n",
    "\n",
    "#Seq_ID, Seq_Sim, Seq_Gap, Seq_score = [], [], [], []\n",
    "Seq_Sim, Seq_Gap, Seq_score = [], [], []\n",
    "\n",
    "Seq_ID={}\n",
    "Best_GEN_seq = {}\n",
    "\n",
    "for seq in otaed_seq:\n",
    "    Tmp_gen_seq = {} #crea un diccionario vacio\n",
    "    Tmp_gen_seq[seq] = otaed_seq[seq] #guarda las secuencias del fold iv en el diccionario vacio\n",
    "    bioprospecting.alignment.writeFastaFile(Tmp_gen_seq,\"Generated_seq.fasta\") #escribe el fasta temporal\n",
    "    seq_ID, seq_Sim, seq_Gap, seq_score = [], [], [], [] #define listas vacias donde pondras los valores de\n",
    "                                                         # % identidad, % gaps, % similitud, score\n",
    "    NMC = Applications.NeedleCommandline(asequence=\"Generated_seq.fasta\", bsequence=\"/home/tania/Documents/2 Practiques Extracurr/Stage3/prompts/ATA117_mut_3WWJ.fasta\", gapopen=10, \n",
    "                                         gapextend=0.5, outfile=\"Temporal_alignment.needle\")\n",
    "#     print(NMC)\n",
    "    NMC()\n",
    "    PWA = open(\"Temporal_alignment.needle\", \"rt\")\n",
    "    for line in PWA:\n",
    "        if \"Identity\" in line:\n",
    "            seq_ID.append(float(line.split(\"(\")[1].replace(\"%)\",\"\").strip()))\n",
    "        if \"Similarity\" in line:\n",
    "            seq_Sim.append(float(line.split(\"(\")[1].replace(\"%)\",\"\").strip()))\n",
    "        if \"Gaps\" in line:\n",
    "            seq_Gap.append(float(line.split(\"(\")[1].replace(\"%)\",\"\").strip()))\n",
    "        if \"Score\" in line:\n",
    "            seq_score.append(float(line.split(\":\")[1].strip()))\n",
    "    Index_of_the_closest_homolog = np.argmax(seq_ID)\n",
    "    Seq_ID[seq] = seq_ID[Index_of_the_closest_homolog]\n",
    "    Seq_Sim.append(seq_Sim[Index_of_the_closest_homolog])\n",
    "    Seq_Gap.append(seq_Gap[Index_of_the_closest_homolog])\n",
    "    Seq_score.append(seq_score[Index_of_the_closest_homolog])\n",
    "    if 60.0<=seq_ID[Index_of_the_closest_homolog]<=100.0:\n",
    "        Best_GEN_seq[seq] = otaed_seq[seq]"
   ]
  },
  {
   "cell_type": "code",
   "execution_count": null,
   "id": "cb6f1d8b",
   "metadata": {},
   "outputs": [],
   "source": [
    "Seq_ID"
   ]
  },
  {
   "cell_type": "code",
   "execution_count": null,
   "id": "6cfce445",
   "metadata": {
    "scrolled": true
   },
   "outputs": [],
   "source": [
    "for key,val in Seq_ID.items():\n",
    "    if val <= 88.0:\n",
    "        print(f\"{key}, {val}\")"
   ]
  },
  {
   "cell_type": "code",
   "execution_count": null,
   "id": "a4ace007",
   "metadata": {},
   "outputs": [],
   "source": [
    "idseq = []\n",
    "for i in Seq_ID.values():\n",
    "    idseq.append(i)"
   ]
  },
  {
   "cell_type": "code",
   "execution_count": null,
   "id": "91a136cd",
   "metadata": {},
   "outputs": [],
   "source": [
    "print(f\"median: {st.median(idseq)} +- {st.stdev(idseq)}\")"
   ]
  },
  {
   "cell_type": "code",
   "execution_count": null,
   "id": "4f30c277",
   "metadata": {
    "scrolled": true
   },
   "outputs": [],
   "source": [
    "# initially we have a certain number of GEN_seq, and then from those sequences, #Best_GEN_seq have\n",
    "# a indentity% between 40-90\n",
    "\n",
    "#ID of the reference structures:\n",
    "Name = \"3FCRmut\"\n",
    "print(f'Initial sequences: {len(otaed_seq)};\\nSequences with identities between 40-90% to the reference structure {Name}: {len(Best_GEN_seq)}')\n"
   ]
  },
  {
   "cell_type": "code",
   "execution_count": null,
   "id": "981f3f40",
   "metadata": {
    "scrolled": true
   },
   "outputs": [],
   "source": [
    "otaed_seq.keys()"
   ]
  },
  {
   "cell_type": "code",
   "execution_count": null,
   "id": "2e798bfa",
   "metadata": {
    "scrolled": false
   },
   "outputs": [],
   "source": [
    "st.median(Seq_ID)"
   ]
  },
  {
   "cell_type": "code",
   "execution_count": null,
   "id": "21eb9477",
   "metadata": {},
   "outputs": [],
   "source": [
    "st.stdev(Seq_ID)"
   ]
  },
  {
   "cell_type": "code",
   "execution_count": null,
   "id": "5d4484c2",
   "metadata": {},
   "outputs": [],
   "source": [
    "st.mean(Seq_ID)"
   ]
  },
  {
   "cell_type": "code",
   "execution_count": null,
   "id": "41ee6a88",
   "metadata": {},
   "outputs": [],
   "source": [
    "# Seq_ID"
   ]
  },
  {
   "cell_type": "markdown",
   "id": "732e30f7",
   "metadata": {},
   "source": [
    "Additionally, you can save the sequences"
   ]
  },
  {
   "cell_type": "code",
   "execution_count": null,
   "id": "4361e232",
   "metadata": {},
   "outputs": [],
   "source": [
    "# # save the sequences\n",
    "\n",
    "# np.save(\"Seq_ID_{}\".format(Name),Seq_ID)\n",
    "# np.save(\"Seq_Sim_{}\".format(Name),Seq_Sim)\n",
    "# np.save(\"Seq_Gap_{}\".format(Name),Seq_Gap)\n",
    "# np.save(\"Seq_Score_{}\".format(Name),Seq_score)"
   ]
  },
  {
   "cell_type": "markdown",
   "id": "cfb5b538",
   "metadata": {},
   "source": [
    "# Plots from the sequence alignment"
   ]
  },
  {
   "cell_type": "code",
   "execution_count": null,
   "id": "7734f5ac",
   "metadata": {
    "scrolled": true
   },
   "outputs": [],
   "source": [
    "#plots to easily visualize the alignment\n",
    "sns.boxplot(Seq_ID)\n",
    "plt.xlabel(\"Sequence identity\")\n",
    "plt.savefig(\"Seq_ID_{}_with_cat_residuesOTAEDIV.png\".format(Name), dpi=300)\n",
    "plt.figure()\n",
    "sns.boxplot(Seq_Sim)\n",
    "plt.xlabel(\"Sequence similarity\")\n",
    "plt.savefig(\"Seq_Sim_{}_with_cat_residuesOTAEDIVpng\".format(Name), dpi=300)\n",
    "plt.figure()\n",
    "sns.boxplot(Seq_score)\n",
    "plt.xlabel(\"Sequence score\")\n",
    "plt.savefig(\"Seq_score_{}_with_cat_residuesOTAEDIV.png\".format(Name), dpi=300)\n",
    "plt.figure()\n",
    "sns.boxplot(Seq_Gap)\n",
    "plt.xlabel(\"Sequence gap\")\n",
    "plt.savefig(\"Seq_gap_{}_with_cat_residuesOTAEDIV.png\".format(Name), dpi=300)"
   ]
  },
  {
   "cell_type": "markdown",
   "id": "16b8cf7d",
   "metadata": {},
   "source": [
    "## Align sequences and remove those without the catalytic K residue"
   ]
  },
  {
   "cell_type": "code",
   "execution_count": null,
   "id": "580d90aa",
   "metadata": {},
   "outputs": [],
   "source": [
    "def merge_two_dicts(x, y):\n",
    "    z = x.copy()   # start with keys and values of x\n",
    "    z.update(y)    # modifies z with keys and values of y\n",
    "    return z"
   ]
  },
  {
   "cell_type": "code",
   "execution_count": null,
   "id": "632e1c43",
   "metadata": {},
   "outputs": [],
   "source": [
    "# Combinamos los fastas de interes (el de todas las secuencias y el de las secuencias con identidades\n",
    "# entre 40-90%) con la secuencia de referencia\n",
    "# recuerda cambiar la variable ref!!\n",
    "\n",
    "\n",
    "All_seq = merge_two_dicts(otaed_seq, ref7)\n",
    "All_seq = merge_two_dicts(All_seq, ref8)\n",
    "\n",
    "print(len(All_seq)) # all sequences\n",
    "# All_seq = merge_two_dicts(otaed_seq, calb)\n",
    "# print(len(All_seq))\n",
    "# all_best_seq = merge_two_dicts(Best_GEN_seq, ref7)\n",
    "# print(len(all_best_seq)) # sequences with identities between 40-90%"
   ]
  },
  {
   "cell_type": "markdown",
   "id": "e480a32b",
   "metadata": {},
   "source": [
    "Generamos un MSA de todas las secuencias para ver si tienen la serina catalitica en la posicion 180 de la referencia"
   ]
  },
  {
   "cell_type": "code",
   "execution_count": null,
   "id": "5a697be1",
   "metadata": {
    "scrolled": true
   },
   "outputs": [],
   "source": [
    "# MSA OF ALL SEQUENCES\n",
    "all_seq_aln = bioprospecting.alignment.mafft.multipleSequenceAlignment(All_seq)\n"
   ]
  },
  {
   "cell_type": "code",
   "execution_count": null,
   "id": "625267d7",
   "metadata": {},
   "outputs": [],
   "source": [
    "# MSA OF ONLY SEQUENCES WITH IDENTITIES BETWEEN 40-90\n",
    "# all_Best_GEN_seq_aln = bioprospecting.alignment.mafft.multipleSequenceAlignment(all_best_seq)\n"
   ]
  },
  {
   "cell_type": "markdown",
   "id": "a2a62505",
   "metadata": {},
   "source": [
    "*NOTE* : if the code above gives an erorr, install mafft via conda"
   ]
  },
  {
   "cell_type": "markdown",
   "id": "46bb0432",
   "metadata": {},
   "source": [
    "Additionally, save the MSA in a fastal file"
   ]
  },
  {
   "cell_type": "code",
   "execution_count": null,
   "id": "1aaa9c7b",
   "metadata": {},
   "outputs": [],
   "source": [
    "#Save the MSA in a fasta file\n",
    "# guardamos el alineamiento en un archivo fasta para visualizarlo con jalview\n",
    "\n",
    "\n",
    "bioprospecting.alignment.writeMsaToFastaFile(all_seq_aln, 'models_msa_3wwj_3wwh.fasta')\n"
   ]
  },
  {
   "cell_type": "code",
   "execution_count": null,
   "id": "a722f15d",
   "metadata": {},
   "outputs": [],
   "source": [
    "all_seq_aln = bioprospecting.alignment.readMsaFromFastaFile(\"models_msa.fasta\")"
   ]
  },
  {
   "cell_type": "code",
   "execution_count": null,
   "id": "2a7c4223",
   "metadata": {},
   "outputs": [],
   "source": [
    "# diccionario para ver si las secuencias tienen una K en la posicion 180\n",
    "\n",
    "# la K esta en la posicion 556 del MSA 25-90%\n",
    "# la K esta en la posicion 217 del MSA 40-90%\n",
    "\n",
    "\n",
    "# cumplen=dict()\n",
    "# for seq_record in Gen_and_pet_seq_aln:\n",
    "#     #print(seq_record)\n",
    "#     if seq_record.seq[218]=='K':\n",
    "#        cumplen[seq_record.id]=seq_record.seq\n",
    "#print(cumplen.keys())\n",
    "#Encontrar cuantas secuencias tienen en la posicion 180 una K    \n",
    "\n",
    "# print(f\"There are {len(cumplen.keys())} sequences with the catalytic K positioned equally to the reference structure\")"
   ]
  },
  {
   "cell_type": "markdown",
   "id": "f1f08ccb",
   "metadata": {},
   "source": [
    "*PROBLEMA*: para que funcione, en la posicion, se especifica la posicion de la K en alineamiento, por lo que puede variar segun el % identidad seleccionado cuando se genera el alineamiento"
   ]
  },
  {
   "cell_type": "markdown",
   "id": "631de3fe",
   "metadata": {},
   "source": [
    "K_index = bioprospecting.alignment.msaIndexesFromSequencePositions(all_seq_aln, \"4CE5_1|Chains\", [181])[0]\n",
    "E_index = bioprospecting.alignment.msaIndexesFromSequencePositions(all_seq_aln, \"4CE5_1|Chains\", [214])[0]\n",
    "\n",
    "K_index = bioprospecting.alignment.msaIndexesFromSequencePositions(all_seq_aln, \"4DAA_1|Chains\", [146])[0]\n",
    "E_index = bioprospecting.alignment.msaIndexesFromSequencePositions(all_seq_aln, \"4DAA_1|Chains\", [178])[0]\n",
    "\n",
    "K_index = bioprospecting.alignment.msaIndexesFromSequencePositions(all_seq_aln, \"5K3W_1|Chains\", [175])[0]\n",
    "E_index = bioprospecting.alignment.msaIndexesFromSequencePositions(all_seq_aln, \"5K3W_1|Chains\", [208])[0]\n",
    "\n",
    "K_index = bioprospecting.alignment.msaIndexesFromSequencePositions(all_seq_aln, \"8AYJ_1|Chains\", [145])[0]\n",
    "E_index = bioprospecting.alignment.msaIndexesFromSequencePositions(all_seq_aln, \"8AYJ_1|Chains\", [175])[0]\n",
    "\n",
    "K_index = bioprospecting.alignment.msaIndexesFromSequencePositions(all_seq_aln, \"7P7X_1|Chain\", [164])[0]\n",
    "E_index = bioprospecting.alignment.msaIndexesFromSequencePositions(all_seq_aln, \"7P7X_1|Chain\", [197])[0]\n",
    "\n",
    "K_index = bioprospecting.alignment.msaIndexesFromSequencePositions(all_seq_aln, \"6SNL_1|Chains\", [180])[0]\n",
    "E_index = bioprospecting.alignment.msaIndexesFromSequencePositions(all_seq_aln, \"6SNL_1|Chains\", [213])[0]"
   ]
  },
  {
   "cell_type": "code",
   "execution_count": null,
   "id": "cfd65645",
   "metadata": {},
   "outputs": [],
   "source": [
    "#indicate the catalytic residues, for o-TAs, K\n",
    "# la K esta en el residuo 180 en la posicion 217 del MSA \n",
    "#escribe el residuo deseado + 1\n",
    "w59_index = bioprospecting.alignment.msaIndexesFromSequencePositions(all_seq_aln, \"3FCR_MUT\", [60])[0]\n",
    "f87_index = bioprospecting.alignment.msaIndexesFromSequencePositions(all_seq_aln, \"3FCR_MUT\", [88])[0]\n",
    "f152_index = bioprospecting.alignment.msaIndexesFromSequencePositions(all_seq_aln, \"3FCR_MUT\", [153])[0]\n",
    "a231_index = bioprospecting.alignment.msaIndexesFromSequencePositions(all_seq_aln, \"3FCR_MUT\", [232])[0]\n",
    "\n",
    "\n",
    "# H_index = bioprospecting.alignment.msaIndexesFromSequencePositions(all_seq_aln, \"4K6G\", [227])[0]\n",
    "\n",
    "# E_index = bioprospecting.alignment.msaIndexesFromSequencePositions(all_seq_aln, \"7QYG_1|Chains\", [87])[0]\n",
    "# index136 = bioprospecting.alignment.msaIndexesFromSequencePositions(all_seq_aln, \"7QYG_1|Chains\", [137])[0]\n",
    "\n",
    "#one based por lo que se suma uno a 180\n",
    "# el resultado son dos posiciones, nos quedamos con la primera, por lo tanto [0]"
   ]
  },
  {
   "cell_type": "code",
   "execution_count": null,
   "id": "4adb320a",
   "metadata": {
    "scrolled": true
   },
   "outputs": [],
   "source": [
    "print(w59_index)\n",
    "# print(E_index)"
   ]
  },
  {
   "cell_type": "code",
   "execution_count": null,
   "id": "2c6e5f46",
   "metadata": {
    "scrolled": true
   },
   "outputs": [],
   "source": [
    "# que residuo esta en la posicion 195 del alineamiento\n",
    "for i in range(len(all_seq_aln)):\n",
    "    print(all_seq_aln[i].seq[w59_index])"
   ]
  },
  {
   "cell_type": "code",
   "execution_count": null,
   "id": "14938195",
   "metadata": {
    "scrolled": false
   },
   "outputs": [],
   "source": [
    "#una vez sabemos en que posicion esta la K180 y E312, procedemos a \n",
    "#evaluar cuantas secuencias no tienen estos residuos \n",
    "#las que no tengan K o E, las eliminaremos añadiendolas a la lista\n",
    "#vacia To_remove_all=[]\n",
    "\n",
    "Cat_Lys = []; Cat_Glu = []; To_remove_all = []; pos136 = [] #definimos las listas\n",
    "\n",
    "for i in range(len(all_seq_aln)):\n",
    "#     Cat_Glu.append(all_seq_aln[i].seq[E_index]) #añade los residuos de las posiciones en E_index\n",
    "#     if all_seq_aln[i].seq[E_index] != \"R\":\n",
    "#         print(all_seq_aln[i].id, all_seq_aln[i].seq[E_index], \"not R\")\n",
    "# #         To_remove_all.append(all_seq_aln[i].id) ## si no coincide añadelo a la lista \n",
    "    Cat_Lys.append(all_seq_aln[i].seq[K_index]) #añade los residuos de las posiciones en K_index\n",
    "    if all_seq_aln[i].seq[K_index] != \"K\":\n",
    "        print(all_seq_aln[i].id, all_seq_aln[i].seq[K_index], \"not K\")\n",
    "# #         To_remove_all.append(all_seq_aln[i].id) # si no coincide añadelo a la lista To_remove_all\n",
    "#     pos136.append(all_seq_aln[i].seq[index136]) #añade los residuos de las posiciones en K_index\n",
    "#     if all_seq_aln[i].seq[index136] != \"G\":\n",
    "#         print(all_seq_aln[i].id, all_seq_aln[i].seq[index136], \"not Gly\")\n"
   ]
  },
  {
   "cell_type": "code",
   "execution_count": null,
   "id": "ed808c71",
   "metadata": {},
   "outputs": [],
   "source": [
    "print(f\"how many sequences did not have the catalytic residues and were removed: {len(set(To_remove))}\")\n",
    "# print(f\"initial sequences evaluated for E + reference sequence: {len(Cat_Glu)}\")\n",
    "# print(f\"initial sequences evaluated for K + reference sequence: {len(Cat_Lys)}\")"
   ]
  },
  {
   "cell_type": "code",
   "execution_count": null,
   "id": "2a923dc0",
   "metadata": {},
   "outputs": [],
   "source": [
    "# # si se quiere guardar una lista a txt\n",
    "# with open(r'toremove_4CE5.txt', 'w') as fp:\n",
    "#     for item in set(To_remove_all):\n",
    "#         # write each item on a new line\n",
    "#         fp.write(\"%s\\n\" % item)\n"
   ]
  },
  {
   "cell_type": "code",
   "execution_count": null,
   "id": "8225f93e",
   "metadata": {},
   "outputs": [],
   "source": [
    "# para ver si estan duplicados\n",
    "prueba = set(To_remove) #set only keep keys after conversion, values are lost\n",
    "[To_remove.count(i) for i in prueba]"
   ]
  },
  {
   "cell_type": "code",
   "execution_count": null,
   "id": "240d91fa",
   "metadata": {},
   "outputs": [],
   "source": [
    "# hacemos lo mismo con las sequencias all_Best_GEN_seq_aln\n",
    "\n",
    "K_index2 = bioprospecting.alignment.msaIndexesFromSequencePositions(all_Best_GEN_seq_aln, \"4DAA_1|Chains\", [146])[0]\n",
    "E_index2 = bioprospecting.alignment.msaIndexesFromSequencePositions(all_Best_GEN_seq_aln, \"4DAA_1|Chains\", [178])[0]\n",
    "\n",
    "Cat_Lys2 = []; To_remove_best = []; Cat_Glu2=[]\n",
    "for i in range(len(all_Best_GEN_seq_aln)):\n",
    "    \n",
    "    Cat_Lys2.append(all_Best_GEN_seq_aln[i].seq[E_index2])\n",
    "    if all_Best_GEN_seq_aln[i].seq[E_index2] != \"E\":\n",
    "        print(all_Best_GEN_seq_aln[i].id, all_Best_GEN_seq_aln[i].seq[E_index2], \"not E\")\n",
    "        To_remove_best.append(all_Best_GEN_seq_aln[i].id)\n",
    "        \n",
    "    Cat_Glu2.append(all_Best_GEN_seq_aln[i].seq[K_index2])\n",
    "    if all_Best_GEN_seq_aln[i].seq[K_index2] != \"K\":\n",
    "        print(all_Best_GEN_seq_aln[i].id, all_Best_GEN_seq_aln[i].seq[K_index2], \"not K\")\n",
    "        To_remove_best.append(all_Best_GEN_seq_aln[i].id)"
   ]
  },
  {
   "cell_type": "code",
   "execution_count": null,
   "id": "597a5a2c",
   "metadata": {},
   "outputs": [],
   "source": [
    "print(f\"how many sequences did not have the catalytic residues and were removed: {len(set(To_remove_best))}\")\n",
    "print(f\"initial sequences + reference sequence: {len(Cat_Lys2)}\")"
   ]
  },
  {
   "cell_type": "code",
   "execution_count": null,
   "id": "30e27a15",
   "metadata": {},
   "outputs": [],
   "source": [
    "# lv = []\n",
    "# for i in range(len(all_Best_GEN_seq_aln)):\n",
    "    \n",
    "#     lv.append(all_Best_GEN_seq_aln[i].id)\n",
    "\n",
    "# #si se quiere guardar una lista a txt\n",
    "# with open(r'lv2.txt', 'w') as fp:\n",
    "#     for item in lv:\n",
    "#         # write each item on a new line\n",
    "#         fp.write(\"%s\\n\" % item)"
   ]
  },
  {
   "cell_type": "code",
   "execution_count": null,
   "id": "cd879e61",
   "metadata": {},
   "outputs": [],
   "source": [
    "#plot to visualize what aminoacid or gap is positioned instead of the catalytic K and E residues\n",
    "\n",
    "# make a dict with all the sequences and their respective residues in the positions K and E\n",
    "Cat_K_residue_identity = bioprospecting.alignment.getSequencePositionFromMSAindex(all_seq_aln, K_index, return_identity=True)\n",
    "Cat_E_residue_identity = bioprospecting.alignment.getSequencePositionFromMSAindex(all_seq_aln, E_index, return_identity=True)"
   ]
  },
  {
   "cell_type": "code",
   "execution_count": null,
   "id": "7a729f92",
   "metadata": {},
   "outputs": [],
   "source": [
    "#https://matplotlib.org/stable/api/_as_gen/matplotlib.pyplot.text.html\n",
    "from matplotlib import colormaps\n",
    "my_cmap = plt.get_cmap(\"viridis\")\n",
    "fig,ax=plt.subplots()\n",
    "ax.bar(list(Listaw59), cuenta_w, width=.7, color=my_cmap(np.linspace(0,1, len(contamos_wdict.keys()))))\n",
    "ax.spines[['top','right']].set_visible(False)#quita la linea de arriba y de la derecha del plot\n",
    "\n",
    "for i, v in enumerate(contamos_wdict.values()):\n",
    "    ax.text(i, v+10, str(v), color='black', fontsize=10, horizontalalignment='center')\n",
    "    \n",
    "plt.savefig(\"Listaw59.png\", dpi=300)\n",
    "plt.show()"
   ]
  },
  {
   "cell_type": "code",
   "execution_count": null,
   "id": "d21b6037",
   "metadata": {},
   "outputs": [],
   "source": [
    "# generamos unas listas para hacer los graficos de barra mas bonitos\n",
    "# mismo codigo que la PEC 3 y 4\n",
    "\n",
    "#lista para ver que residuos estan en la posicion K\n",
    "# generamos una lista con cada uno de los valores (residuos) del dict\n",
    "ListaS = Cat_S_residue_identity.values()\n",
    "ListaD = Cat_D_residue_identity.values()\n",
    "ListaH = Cat_H_residue_identity.values()\n",
    "\n",
    "#añadimos todas aquellas posiciones que son diferentes a la K a una nueva lista\n",
    "#nueva_listaK=[i for i in ListaK if i != \"K\"]\n",
    "#print(len(nueva_listaK))\n",
    "nueva_listaS = []\n",
    "Slista=[]\n",
    "for i in ListaS:\n",
    "    if i == \"S\":\n",
    "        nueva_listaS.append(i)\n",
    "    else:\n",
    "        Slista.append(i)\n",
    "\n",
    "# contamos cuantos residuos son diferentes a la K   \n",
    "diferentesS = set(nueva_listaS) # con set no ponemos los repetidos\n",
    "\n",
    "\n",
    "\n",
    "# cuentaK = []\n",
    "# for i in diferentesK:\n",
    "#     nueva_listaK.count(i)\n",
    "\n",
    "cuentaS=[nueva_listaS.count(i) for i in diferentesS] #contamos las veces que se repite \n",
    "nuevodict=dict()\n",
    "for llave,valor in zip(diferentesS,cuentaS):\n",
    "    nuevodict[llave]=valor\n",
    "#     print(i,j)\n",
    "print(nuevodict)\n",
    "#print(cuentaK)\n",
    "# print(diferentesK)\n",
    "\n",
    "\n",
    "\n"
   ]
  },
  {
   "cell_type": "code",
   "execution_count": null,
   "id": "866774f1",
   "metadata": {},
   "outputs": [],
   "source": [
    "# generamos unas listas para hacer los graficos de barra mas bonitos\n",
    "# mismo codigo que la PEC 3 y 4\n",
    "\n",
    "#lista para ver que residuos estan en la posicion K\n",
    "# generamos una lista con cada uno de los valores (residuos) del dict\n",
    "ListaK = Cat_K_residue_identity.values()\n",
    "#añadimos todas aquellas posiciones que son diferentes a la K a una nueva lista\n",
    "#nueva_listaK=[i for i in ListaK if i != \"K\"]\n",
    "#print(len(nueva_listaK))\n",
    "nueva_listaK = []\n",
    "Klista=[]\n",
    "for i in ListaK:\n",
    "    if i != \"K\":\n",
    "        nueva_listaK.append(i)\n",
    "    else:\n",
    "        Klista.append(i)\n",
    "\n",
    "# contamos cuantos residuos son diferentes a la K   \n",
    "diferentesK = set(nueva_listaK) # con set no ponemos los repetidos\n",
    "\n",
    "\n",
    "# cuentaK = []\n",
    "# for i in diferentesK:\n",
    "#     nueva_listaK.count(i)\n",
    "\n",
    "cuentaK=[nueva_listaK.count(i) for i in diferentesK] #contamos las veces que se repite \n",
    "nuevodict=dict()\n",
    "for llave,valor in zip(diferentesK,cuentaK):\n",
    "    nuevodict[llave]=valor\n",
    "#     print(i,j)\n",
    "print(nuevodict)\n",
    "#print(cuentaK)\n",
    "# print(diferentesK)\n",
    "\n",
    "\n",
    "\n",
    "#lista para ver que residuos estan en la posicion E\n",
    "ListaE = Cat_E_residue_identity.values()\n",
    "nueva_listaE=[i for i in ListaE if i != \"E\"]\n",
    "\n",
    "# contamos cuantos residuos son diferentes a la E\n",
    "diferentesE = set(nueva_listaE)\n",
    "cuentaE = [nueva_listaE.count(i) for i in diferentesE]\n",
    "\n",
    "nuevodict_E=dict()\n",
    "for llave, valor in zip(diferentesE,cuentaE):\n",
    "    nuevodict_E[llave]=valor\n",
    "#print(diferentesE)\n",
    "#print(cuentaE)\n",
    "print(nuevodict_E)"
   ]
  },
  {
   "cell_type": "code",
   "execution_count": null,
   "id": "97da5a78",
   "metadata": {},
   "outputs": [],
   "source": [
    "# PLOT residuos que ocupan la posicion de la K\n",
    "plt.bar(list(diferentesS), cuentaS, width=.7, color=\"green\")\n",
    "plt.savefig(\"{}_PLOT_H.png\".format(Name), dpi=300)"
   ]
  },
  {
   "cell_type": "code",
   "execution_count": null,
   "id": "00a29a19",
   "metadata": {},
   "outputs": [],
   "source": [
    "# PLOT residuos que ocupan la posicion de la E\n",
    "plt.bar(list(diferentesE), cuentaE, width=.7, color=\"red\")\n",
    "plt.savefig(\"{}_PLOT_E.png\".format(Name), dpi=300)"
   ]
  },
  {
   "cell_type": "code",
   "execution_count": null,
   "id": "322f86f6",
   "metadata": {},
   "outputs": [],
   "source": [
    "plt.hist(Cat_K_residue_identity.values())"
   ]
  },
  {
   "cell_type": "code",
   "execution_count": null,
   "id": "cb5abf83",
   "metadata": {},
   "outputs": [],
   "source": [
    "# eliminamos las secuencias que no tienen la K ni E del diccionario otaed_seq\n",
    "# y lo guardamos en un nuevo fasta\n",
    "# este fasta contendra las secuencias con K catalitica\n",
    "# no repetidas gracias a la funcion set()\n",
    "\n",
    "To_remove1 = list(set(To_remove_all)) #elimina duplicados\n",
    "print(len(To_remove1)) #elementos a eliminar\n",
    "#sequences from oTAED\n",
    "#otaed_seq_final = bioprospecting.alignment.readFastaFile(\"/home/tania/Documents/2 Practiques Extracurr/Stage 1/oTAED DB/MMSEQS/Fold IV/clean_otaed_fold4_250-350resi_SI90_rep_seq.fasta\")\n",
    "\n",
    "#sequences from HMM\n",
    "otaed_seq_final = bioprospecting.alignment.readFastaFile(\"/home/tania/Documents/2 Practiques Extracurr/Stage 1/Ampliacion BD/Fold IV/allseq_foldiv_trimmed_SID90_rep_seq.fasta\")\n",
    "\n",
    "print(len(otaed_seq_final)) # elementos iniciales\n",
    "for el in To_remove1:\n",
    "    if el in otaed_seq_final.keys():\n",
    "        del otaed_seq_final[el]\n",
    "print(len(otaed_seq_final))  #elementos finales"
   ]
  },
  {
   "cell_type": "code",
   "execution_count": null,
   "id": "88443c32",
   "metadata": {},
   "outputs": [],
   "source": [
    "# save the final sequences with the catalytic K\n",
    "# this step does not save the reference sequence!\n",
    "\n",
    "#bioprospecting.alignment.writeFastaFile(otaed_seq_final, output_file=\"{}_otaed_fold4_bestseq.fasta\".format(Name))\n",
    "# FOR HMM sequences\n",
    "bioprospecting.alignment.writeFastaFile(otaed_seq_final, output_file=\"{}_allseq_fold4_bestseq.fasta\".format(Name))"
   ]
  },
  {
   "cell_type": "code",
   "execution_count": null,
   "id": "7e2c2550",
   "metadata": {},
   "outputs": [],
   "source": [
    "# eliminamos las secuencias que no tienen la K del diccionario Best_GEN_seq\n",
    "# y lo guardamos en un nuevo fasta\n",
    "# este fasta contendra las secuencias con K catalitica e identidades entre 40-90%\n",
    "\n",
    "To_remove_best_final = list(set(To_remove_best)) #elimina duplicados\n",
    "print(len(To_remove_best_final)) #elementos a eliminar\n",
    "Best_GEN_seq_final = Best_GEN_seq\n",
    "print(len(Best_GEN_seq_final)) # elementos iniciales\n",
    "for el in To_remove_best_final:\n",
    "    if el in Best_GEN_seq_final.keys():\n",
    "        del Best_GEN_seq_final[el]\n",
    "print(len(Best_GEN_seq_final))  #elementos finales\n",
    "\n",
    "\n",
    "# for el in To_remove2:\n",
    "#     if el in Best_GEN_seq.keys():\n",
    "#         del Best_GEN_seq[el]"
   ]
  },
  {
   "cell_type": "code",
   "execution_count": null,
   "id": "23cca837",
   "metadata": {},
   "outputs": [],
   "source": [
    "# save the final sequences with the catalytic K and identity % between 25-90%\n",
    "# this step does not save the reference sequence!\n",
    "\n",
    "bioprospecting.alignment.writeFastaFile(Best_GEN_seq_final, output_file=\"{}_catLys_similar_seq_40_to_90_otaed_fold4.fasta\".format(Name))\n"
   ]
  },
  {
   "cell_type": "markdown",
   "id": "da26c8e7",
   "metadata": {},
   "source": [
    "---------------------------------------------------------"
   ]
  }
 ],
 "metadata": {
  "kernelspec": {
   "display_name": "Python 3",
   "language": "python",
   "name": "python3"
  },
  "language_info": {
   "codemirror_mode": {
    "name": "ipython",
    "version": 3
   },
   "file_extension": ".py",
   "mimetype": "text/x-python",
   "name": "python",
   "nbconvert_exporter": "python",
   "pygments_lexer": "ipython3",
   "version": "3.8.8"
  }
 },
 "nbformat": 4,
 "nbformat_minor": 5
}
