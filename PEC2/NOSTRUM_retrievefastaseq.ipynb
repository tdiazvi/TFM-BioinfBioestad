{
 "cells": [
  {
   "cell_type": "markdown",
   "id": "5599ea36",
   "metadata": {},
   "source": [
    "## Download sequences in fasta from a set of Uniprot IDs"
   ]
  },
  {
   "cell_type": "markdown",
   "id": "72db0d0a",
   "metadata": {},
   "source": [
    "https://stackoverflow.com/questions/52569622/protein-sequence-from-uniprot-protein-id-python"
   ]
  },
  {
   "cell_type": "code",
   "execution_count": 1,
   "id": "d11a6845",
   "metadata": {},
   "outputs": [],
   "source": [
    "# load the libraries\n",
    "import pandas as pd\n",
    "import requests as r\n",
    "from Bio import SeqIO\n",
    "from io import StringIO"
   ]
  },
  {
   "cell_type": "code",
   "execution_count": 2,
   "id": "1b81fd85",
   "metadata": {},
   "outputs": [],
   "source": [
    "#load df obtained from hmmsearch of fold IV\n",
    "df_ft4 = pd.read_csv(\"/home/tania/Documents/2 Practicas NOSTRUM/Ampliacion BD/Fold IV/Secuencias con HMM2_1/df_fold4_hmm2rep2.csv\")\n",
    "#df.head()\n",
    "\n",
    "\n",
    "#load df obtained from hmmsearch of fold I\n",
    "df_ft1 = pd.read_csv(\"/home/tania/Documents/2 Practicas NOSTRUM/Ampliacion BD/Fold I/df_fold1.csv\")\n",
    "\n",
    "#ids2 = df[\"Target\"]\n",
    "#len(ids2)\n",
    "#len(df)"
   ]
  },
  {
   "cell_type": "code",
   "execution_count": 3,
   "id": "ae4811a9",
   "metadata": {},
   "outputs": [
    {
     "data": {
      "text/plain": [
       "23607"
      ]
     },
     "execution_count": 3,
     "metadata": {},
     "output_type": "execute_result"
    }
   ],
   "source": [
    "# cribar secuencias fold type IV segun su evalue de 6.6e-16\n",
    "dflimpio_iv = df_ft4.loc[df_ft4[\"E-value\"] <6.6e-16]\n",
    "len(dflimpio_iv)\n",
    "\n",
    "ids_iv = dflimpio_iv[\"Target\"]\n",
    "len(ids_iv) #how many sequences"
   ]
  },
  {
   "cell_type": "code",
   "execution_count": 4,
   "id": "8b87252e",
   "metadata": {},
   "outputs": [
    {
     "data": {
      "text/plain": [
       "26800"
      ]
     },
     "execution_count": 4,
     "metadata": {},
     "output_type": "execute_result"
    }
   ],
   "source": [
    "# cribar secuencias fold type I segun su evalue de #2.1e-73\n",
    "\n",
    "dflimpio_i = df_ft1.loc[df_ft1[\"E-value\"] <6.6e-16]\n",
    "len(dflimpio_i)\n",
    "\n",
    "ids_i = dflimpio_i[\"Target\"]\n",
    "len(ids_i) #how many sequences"
   ]
  },
  {
   "cell_type": "code",
   "execution_count": 5,
   "id": "7683a512",
   "metadata": {},
   "outputs": [],
   "source": [
    "import os\n",
    "#retrieve sequences for fold I, save them in the fastas_i folder\n",
    "for i in list(ids_i):\n",
    "    ID = i.split(\"_\")[0]\n",
    "    baseurl=f\"http://www.uniprot.org/uniprot/{ID}.fasta\"\n",
    "    os.system(f\"wget {baseurl} -O /home/tania/fastas_i/{ID}.fasta\")\n",
    "\n",
    "#retrieve sequences for fold VI, save them in the fastas_vi folder    \n",
    "for e in list(ids_iv):\n",
    "    IDiv = e.split(\"_\")[0]\n",
    "    baseurl=f\"http://www.uniprot.org/uniprot/{IDiv}.fasta\"\n",
    "    os.system(f\"wget {baseurl} -O /home/tania/fastas_iv/{IDiv}.fasta\")"
   ]
  },
  {
   "cell_type": "code",
   "execution_count": 6,
   "id": "1001ae50",
   "metadata": {},
   "outputs": [
    {
     "data": {
      "text/plain": [
       "0"
      ]
     },
     "execution_count": 6,
     "metadata": {},
     "output_type": "execute_result"
    }
   ],
   "source": [
    "# combine all the fastas in one file\n",
    "# fold type iv\n",
    "os.system(\"cat /home/tania/fastas_iv/*.fasta > allseq_foldiv.fasta\")\n",
    "\n",
    "# fold type i\n",
    "os.system(\"cat /home/tania/fastas_i/*.fasta > allseq_foldi.fasta\")\n"
   ]
  },
  {
   "cell_type": "markdown",
   "id": "d8e2f2a0",
   "metadata": {},
   "source": [
    "xxxxxxxxxxxxxxxxxxxxxxxxxxxxxxxxxxxxxxxxxxxxxxxxxxxxxxxxxxxxxxxxxxx"
   ]
  },
  {
   "cell_type": "markdown",
   "id": "daf68084",
   "metadata": {},
   "source": [
    "xxxxxxxxxxxxxxxxxxxxxxxxxxxxxxxxxxxxxxxxxxxxxxxxxxxxxxxxxxxxxxxxxxx"
   ]
  },
  {
   "cell_type": "code",
   "execution_count": 16,
   "id": "b91aea6f",
   "metadata": {},
   "outputs": [
    {
     "data": {
      "text/plain": [
       "['A0A2V4VTI1', '9BACL']"
      ]
     },
     "execution_count": 16,
     "metadata": {},
     "output_type": "execute_result"
    }
   ],
   "source": [
    "list(ids)[0].split(\"_\")"
   ]
  },
  {
   "cell_type": "code",
   "execution_count": 56,
   "id": "e8190c3d",
   "metadata": {},
   "outputs": [],
   "source": [
    "#print(lista)\n",
    "\n",
    "file = open('lista.txt','w')\n",
    "for item in lista2: #cambiar esta variable por listaf, lista2, lista3...\n",
    "    file.write(item)\n",
    "file.close()\n"
   ]
  }
 ],
 "metadata": {
  "kernelspec": {
   "display_name": "Python 3",
   "language": "python",
   "name": "python3"
  },
  "language_info": {
   "codemirror_mode": {
    "name": "ipython",
    "version": 3
   },
   "file_extension": ".py",
   "mimetype": "text/x-python",
   "name": "python",
   "nbconvert_exporter": "python",
   "pygments_lexer": "ipython3",
   "version": "3.8.8"
  }
 },
 "nbformat": 4,
 "nbformat_minor": 5
}
